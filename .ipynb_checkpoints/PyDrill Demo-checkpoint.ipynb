{
 "cells": [
  {
   "cell_type": "markdown",
   "metadata": {},
   "source": [
    "# PyDrill Demonstration\n",
    "This notebook demonstrates how to use the PyDrill module to connect to Apache Drill. The essential steps are:\n",
    "1.  Import the module\n",
    "2.  Open a connection to Drill\n",
    "3.  Execute a query\n",
    "4.  Do something with the results. \n",
    "\n",
    "You will first need to install PyDrill.  This can be done by opening a terminal and typing:\n",
    "```python\n",
    "pip install pydrill\n",
    "```\n",
    "## Step 1:  Import the PyDrill module\n",
    "After you've done this, you will be able to import the PyDrill module."
   ]
  },
  {
   "cell_type": "code",
   "execution_count": 2,
   "metadata": {
    "collapsed": true
   },
   "outputs": [],
   "source": [
    "from pydrill.client import PyDrill"
   ]
  },
  {
   "cell_type": "markdown",
   "metadata": {},
   "source": [
    "## Step 2:  Open a connection to Drill\n",
    "The next step is to open a connection to Drill.  Once you've opened the connection, you will want to verify that the connection was successfully opened before executing any queries.  PyDrill includes an `is_active()` method for this purpose."
   ]
  },
  {
   "cell_type": "code",
   "execution_count": 3,
   "metadata": {
    "collapsed": false
   },
   "outputs": [],
   "source": [
    "#Open a connection to Drill\n",
    "drill = PyDrill(host='localhost', port=8047)\n",
    "\n",
    "#Verify the connection is active, throw an error if not.\n",
    "if not drill.is_active():\n",
    "    raise ImproperlyConfigured('Please run Drill first')"
   ]
  },
  {
   "cell_type": "markdown",
   "metadata": {},
   "source": [
    "## Step 3: Execute a query and get the results\n",
    "The next and final step is to execute a query in Drill.  When you call the `.query()` method, PyDrill returns an iterable object from which you can extract the rows of your results.  You can also get PyDrill to return a pandas DataFrame. "
   ]
  },
  {
   "cell_type": "code",
   "execution_count": 4,
   "metadata": {
    "collapsed": false
   },
   "outputs": [
    {
     "name": "stdout",
     "output_type": "stream",
     "text": [
      "{'avg_salary': '238772.0', 'number': '1', 'JobTitle': \"STATE'S ATTORNEY\"}\n",
      "{'avg_salary': '211785.0', 'number': '1', 'JobTitle': 'Police Commissioner'}\n",
      "{'avg_salary': '178900.0', 'number': '1', 'JobTitle': 'Executive Director V'}\n",
      "{'avg_salary': '167449.0', 'number': '1', 'JobTitle': 'MAYOR'}\n",
      "{'avg_salary': '166500.0', 'number': '1', 'JobTitle': 'CITY SOLICITOR'}\n",
      "{'avg_salary': '166500.0', 'number': '1', 'JobTitle': 'DIRECTOR PUBLIC WORKS'}\n",
      "{'avg_salary': '166401.66666666666', 'number': '9', 'JobTitle': 'Executive Director III'}\n",
      "{'avg_salary': '159800.0', 'number': '1', 'JobTitle': 'CITY AUDITOR'}\n",
      "{'avg_salary': '146891.5', 'number': '4', 'JobTitle': 'Executive Director IV'}\n",
      "{'avg_salary': '146500.0', 'number': '3', 'JobTitle': 'Assistant Fire Chief'}\n"
     ]
    }
   ],
   "source": [
    "#Execute query in Drill\n",
    "query_result = drill.query('''\n",
    " SELECT JobTitle, \n",
    "AVG( CAST( LTRIM( AnnualSalary, '$' ) AS FLOAT) ) AS avg_salary, \n",
    "COUNT( DISTINCT name ) AS number\n",
    "FROM dfs.drillworkshop.`*.csvh`\n",
    "GROUP BY JobTitle\n",
    "Order By avg_salary DESC\n",
    "LIMIT 10\n",
    "''')\n",
    "\n",
    "#Iterate through the rows.\n",
    "for row in query_result:\n",
    "    print( row )"
   ]
  },
  {
   "cell_type": "code",
   "execution_count": 4,
   "metadata": {
    "collapsed": false
   },
   "outputs": [
    {
     "data": {
      "text/plain": [
       "<pydrill.client.result.ResultQuery at 0x10984e9b0>"
      ]
     },
     "execution_count": 4,
     "metadata": {},
     "output_type": "execute_result"
    }
   ],
   "source": [
    "drill.metrics()"
   ]
  }
 ],
 "metadata": {
  "kernelspec": {
   "display_name": "Python 3",
   "language": "python",
   "name": "python3"
  },
  "language_info": {
   "codemirror_mode": {
    "name": "ipython",
    "version": 3
   },
   "file_extension": ".py",
   "mimetype": "text/x-python",
   "name": "python",
   "nbconvert_exporter": "python",
   "pygments_lexer": "ipython3",
   "version": "3.5.1"
  }
 },
 "nbformat": 4,
 "nbformat_minor": 0
}
